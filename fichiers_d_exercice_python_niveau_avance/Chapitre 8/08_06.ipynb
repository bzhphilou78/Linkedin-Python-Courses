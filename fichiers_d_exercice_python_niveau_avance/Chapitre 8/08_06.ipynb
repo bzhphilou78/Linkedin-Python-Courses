{
 "cells": [
  {
   "cell_type": "code",
   "execution_count": 1,
   "id": "e0fc4206",
   "metadata": {},
   "outputs": [],
   "source": [
    "def gerer_ticket(priorite):\n",
    "    if priorite == \"haute\":\n",
    "        return \"Traiter immédiatement\"\n",
    "    elif priorite == \"moyenne\":\n",
    "        return \"Traiter dans les 24 heures\"\n",
    "    elif priorite == \"basse\":\n",
    "        return \"Traiter dans les 72 heures\"\n",
    "    else:\n",
    "        return \"Priorité inconnue\""
   ]
  },
  {
   "cell_type": "code",
   "execution_count": 2,
   "id": "097392dd",
   "metadata": {},
   "outputs": [],
   "source": [
    "def gerer_ticket_nouv(priorite):\n",
    "    match priorite:\n",
    "        case \"haute\":\n",
    "            return \"Traiter immédiatement\"\n",
    "        case \"moyenne\":\n",
    "            return \"Traiter dans les 24 heures\"\n",
    "        case \"basse\":\n",
    "            return \"Traiter dans les 72 heures\"\n",
    "        case _:\n",
    "            return \"Priorité inconnue\""
   ]
  },
  {
   "cell_type": "code",
   "execution_count": 3,
   "id": "0926f026",
   "metadata": {},
   "outputs": [
    {
     "name": "stdout",
     "output_type": "stream",
     "text": [
      "Traiter immédiatement\n",
      "Traiter dans les 24 heures\n",
      "Traiter dans les 72 heures\n",
      "Priorité inconnue\n"
     ]
    }
   ],
   "source": [
    "print(gerer_ticket(\"haute\"))   # Sortie souhaitée: Traiter immédiatement\n",
    "print(gerer_ticket(\"moyenne\")) # Sortie souhaitée: dans les 24 heures\n",
    "print(gerer_ticket(\"basse\"))   # Sortie souhaitée: Traiter dans les 72 heures\n",
    "print(gerer_ticket(\"urgent\"))  # Sortie souhaitée: Priorité inconnue"
   ]
  },
  {
   "cell_type": "code",
   "execution_count": 4,
   "id": "da07636b",
   "metadata": {},
   "outputs": [
    {
     "name": "stdout",
     "output_type": "stream",
     "text": [
      "Tous les tests ont réussi.\n"
     ]
    }
   ],
   "source": [
    "# Fonction pour tester et comparer les résultats\n",
    "def test_fonctions():\n",
    "    # Liste des cas de test\n",
    "    cas_test = [\n",
    "        \"haute\",\n",
    "        \"moyenne\",\n",
    "        \"basse\",\n",
    "        \"urgent\"\n",
    "    ]\n",
    "    \n",
    "    # Comparaison des résultats pour chaque cas de test\n",
    "    for priorite in cas_test:\n",
    "        resultat_original = gerer_ticket(priorite)\n",
    "        resultat_nouveau = gerer_ticket_nouv(priorite)\n",
    "        assert resultat_original == resultat_nouveau, (\n",
    "            f\"Erreur: Pour priorite='{priorite}', \"\n",
    "            f\"gerer_ticket a retourné '{resultat_original}' \"\n",
    "            f\"mais gerer_ticket_nouv a retourné '{resultat_nouveau}'\"\n",
    "        )\n",
    "    \n",
    "    print(\"Tous les tests ont réussi.\")\n",
    "\n",
    "# Exécutez les tests\n",
    "test_fonctions()"
   ]
  },
  {
   "cell_type": "code",
   "execution_count": null,
   "id": "30e7a908",
   "metadata": {},
   "outputs": [],
   "source": []
  }
 ],
 "metadata": {
  "kernelspec": {
   "display_name": "Python 3 (ipykernel)",
   "language": "python",
   "name": "python3"
  },
  "language_info": {
   "codemirror_mode": {
    "name": "ipython",
    "version": 3
   },
   "file_extension": ".py",
   "mimetype": "text/x-python",
   "name": "python",
   "nbconvert_exporter": "python",
   "pygments_lexer": "ipython3",
   "version": "3.10.9"
  }
 },
 "nbformat": 4,
 "nbformat_minor": 5
}
