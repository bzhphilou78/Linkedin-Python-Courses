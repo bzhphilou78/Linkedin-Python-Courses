{
 "cells": [
  {
   "cell_type": "code",
   "execution_count": 1,
   "id": "52d7758b",
   "metadata": {},
   "outputs": [],
   "source": [
    "# Définissons une fonction mathématique\n",
    "def fonction_math(input_value):\n",
    "    match input_value:\n",
    "        case (\"addition\", a, b):\n",
    "            return a + b\n",
    "        case (\"multiplication\", a, b):\n",
    "            return a * b\n",
    "        case (\"puissance\", a, b):\n",
    "            return a ** b\n",
    "        case _:\n",
    "            return \"Opération inconnue\""
   ]
  },
  {
   "cell_type": "code",
   "execution_count": 2,
   "id": "0afdbae9",
   "metadata": {},
   "outputs": [
    {
     "name": "stdout",
     "output_type": "stream",
     "text": [
      "7\n",
      "12\n",
      "8\n",
      "Opération inconnue\n"
     ]
    }
   ],
   "source": [
    "# Appel de la fonction avec différents cas\n",
    "resultat_addition = fonction_math((\"addition\", 3, 4))\n",
    "resultat_multiplication = fonction_math((\"multiplication\", 3, 4))\n",
    "resultat_puissance = fonction_math((\"puissance\", 2, 3))\n",
    "resultat_inconnu = fonction_math((\"division\", 3, 4))\n",
    "\n",
    "print(resultat_addition)       \n",
    "print(resultat_multiplication)\n",
    "print(resultat_puissance)      \n",
    "print(resultat_inconnu)        "
   ]
  },
  {
   "cell_type": "code",
   "execution_count": null,
   "id": "beb90d2a",
   "metadata": {},
   "outputs": [],
   "source": []
  }
 ],
 "metadata": {
  "kernelspec": {
   "display_name": "Python 3 (ipykernel)",
   "language": "python",
   "name": "python3"
  },
  "language_info": {
   "codemirror_mode": {
    "name": "ipython",
    "version": 3
   },
   "file_extension": ".py",
   "mimetype": "text/x-python",
   "name": "python",
   "nbconvert_exporter": "python",
   "pygments_lexer": "ipython3",
   "version": "3.12.4"
  }
 },
 "nbformat": 4,
 "nbformat_minor": 5
}
