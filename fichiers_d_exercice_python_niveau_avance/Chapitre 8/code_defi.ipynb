{
 "cells": [
  {
   "cell_type": "code",
   "execution_count": 1,
   "id": "333ffc8d",
   "metadata": {},
   "outputs": [],
   "source": [
    "def gerer_ticket(priorite):\n",
    "    if priorite == \"haute\":\n",
    "        return \"Traiter immédiatement\"\n",
    "    elif priorite == \"moyenne\":\n",
    "        return \"Traiter dans les 24 heures\"\n",
    "    elif priorite == \"basse\":\n",
    "        return \"Traiter dans les 72 heures\"\n",
    "    else:\n",
    "        return \"Priorité inconnue\""
   ]
  },
  {
   "cell_type": "code",
   "execution_count": null,
   "id": "383a996a",
   "metadata": {},
   "outputs": [],
   "source": []
  }
 ],
 "metadata": {
  "kernelspec": {
   "display_name": "Python 3 (ipykernel)",
   "language": "python",
   "name": "python3"
  },
  "language_info": {
   "codemirror_mode": {
    "name": "ipython",
    "version": 3
   },
   "file_extension": ".py",
   "mimetype": "text/x-python",
   "name": "python",
   "nbconvert_exporter": "python",
   "pygments_lexer": "ipython3",
   "version": "3.10.9"
  }
 },
 "nbformat": 4,
 "nbformat_minor": 5
}
