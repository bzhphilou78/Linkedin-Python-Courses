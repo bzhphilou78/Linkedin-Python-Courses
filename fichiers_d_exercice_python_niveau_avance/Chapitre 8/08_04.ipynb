{
 "cells": [
  {
   "cell_type": "code",
   "execution_count": 3,
   "id": "7f7f2261",
   "metadata": {},
   "outputs": [],
   "source": [
    "# Définissons une fonction pour traiter différentes commandes avec conditions\n",
    "def traiter_commande(commande):\n",
    "    match commande:\n",
    "        case {\"type\": \"livraison\", \"poids\": poids} if poids <= 20:\n",
    "            return \"Commande livrée\"\n",
    "        case {\"type\": \"livraison\", \"poids\": poids} if poids > 20:\n",
    "            return \"Commande trop lourde pour la livraison\"\n",
    "        case {\"type\": \"ramassage\", \"heure\": heure} if 9 <= heure <= 18:\n",
    "            return \"Commande prête pour le ramassage\"\n",
    "        case {\"type\": \"ramassage\", \"heure\": heure} if not (9 <= heure <= 18):\n",
    "            return \"Heure de ramassage non valide\"\n",
    "        case _:\n",
    "            return \"Type de commande non reconnu\""
   ]
  },
  {
   "cell_type": "code",
   "execution_count": 5,
   "id": "1f630ff6",
   "metadata": {},
   "outputs": [
    {
     "name": "stdout",
     "output_type": "stream",
     "text": [
      "Commande livrée\n",
      "Commande trop lourde pour la livraison\n",
      "Commande prête pour le ramassage\n",
      "Heure de ramassage non valide\n",
      "Type de commande non reconnu\n"
     ]
    }
   ],
   "source": [
    "# Appel de la fonction avec différents cas\n",
    "resultat_livraison_legere = traiter_commande({\"type\": \"livraison\", \"poids\": 15})\n",
    "resultat_livraison_lourde = traiter_commande({\"type\": \"livraison\", \"poids\": 25})\n",
    "resultat_ramassage_valide = traiter_commande({\"type\": \"ramassage\", \"heure\": 14})\n",
    "resultat_ramassage_invalide = traiter_commande({\"type\": \"ramassage\", \"heure\": 20})\n",
    "resultat_inconnu = traiter_commande({\"type\": \"drone\", \"heure\": 14})\n",
    "\n",
    "print(resultat_livraison_legere)  # Output: Commande livrée\n",
    "print(resultat_livraison_lourde)  # Output: Commande trop lourde pour la livraison\n",
    "print(resultat_ramassage_valide)     # Output: Commande prête pour le ramassage\n",
    "print(resultat_ramassage_invalide)   # Output: Heure de ramassage non valide\n",
    "print(resultat_inconnu)           # Output: Type de commande non reconnu"
   ]
  },
  {
   "cell_type": "code",
   "execution_count": null,
   "id": "12afc2a7",
   "metadata": {},
   "outputs": [],
   "source": []
  }
 ],
 "metadata": {
  "kernelspec": {
   "display_name": "Python 3 (ipykernel)",
   "language": "python",
   "name": "python3"
  },
  "language_info": {
   "codemirror_mode": {
    "name": "ipython",
    "version": 3
   },
   "file_extension": ".py",
   "mimetype": "text/x-python",
   "name": "python",
   "nbconvert_exporter": "python",
   "pygments_lexer": "ipython3",
   "version": "3.10.9"
  }
 },
 "nbformat": 4,
 "nbformat_minor": 5
}
