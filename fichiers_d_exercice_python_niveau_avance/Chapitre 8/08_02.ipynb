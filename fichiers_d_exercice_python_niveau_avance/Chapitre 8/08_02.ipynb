{
 "cells": [
  {
   "cell_type": "code",
   "execution_count": 1,
   "id": "ca617581",
   "metadata": {},
   "outputs": [
    {
     "name": "stdout",
     "output_type": "stream",
     "text": [
      "La liste contient trois fruits spécifiques.\n"
     ]
    }
   ],
   "source": [
    "# Exemple 1: Utilisation de match...case avec une liste\n",
    "fruits = [\"pomme\", \"banane\", \"cerise\"]\n",
    "\n",
    "def valider_fruits(fruit_list):\n",
    "    match fruit_list:\n",
    "        case [\"pomme\", \"banane\", \"cerise\"]:\n",
    "            return \"La liste contient trois fruits spécifiques.\"\n",
    "        case _:\n",
    "            return \"Liste inconnue.\"\n",
    "\n",
    "# Appel de la fonction avec notre liste de fruits\n",
    "resultat_liste = valider_fruits(fruits)\n",
    "print(resultat_liste)  # Output: La liste contient trois fruits spécifiques."
   ]
  },
  {
   "cell_type": "code",
   "execution_count": 4,
   "id": "5645a172",
   "metadata": {},
   "outputs": [
    {
     "name": "stdout",
     "output_type": "stream",
     "text": [
      "Dola a 40 ans.\n"
     ]
    }
   ],
   "source": [
    "# Exemple 2: Utilisation de match...case avec un dictionnaire\n",
    "personne_1 = {\"nom\": \"Dola\", \"age\": 40}\n",
    "\n",
    "personne_2 = {\"nom\": \"Schmidt\", \"age\": 42}\n",
    "\n",
    "def valider_person(person_dict):\n",
    "    match person_dict:\n",
    "        case {\"nom\": \"Dola\", \"age\": age}:\n",
    "            return f\"Dola a {age} ans.\"\n",
    "        case _:\n",
    "            return \"Personne inconnue.\"\n",
    "\n",
    "# Appel de la fonction avec notre dictionnaire personne\n",
    "resultat_dictionnaire = valider_person(personne_1)\n",
    "print(resultat_dictionnaire)  # Output: Dola a 40 ans."
   ]
  },
  {
   "cell_type": "code",
   "execution_count": null,
   "id": "49683166",
   "metadata": {},
   "outputs": [],
   "source": []
  }
 ],
 "metadata": {
  "kernelspec": {
   "display_name": "Python 3 (ipykernel)",
   "language": "python",
   "name": "python3"
  },
  "language_info": {
   "codemirror_mode": {
    "name": "ipython",
    "version": 3
   },
   "file_extension": ".py",
   "mimetype": "text/x-python",
   "name": "python",
   "nbconvert_exporter": "python",
   "pygments_lexer": "ipython3",
   "version": "3.10.9"
  }
 },
 "nbformat": 4,
 "nbformat_minor": 5
}
